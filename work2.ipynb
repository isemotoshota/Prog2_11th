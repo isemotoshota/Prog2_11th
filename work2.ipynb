{
  "nbformat": 4,
  "nbformat_minor": 0,
  "metadata": {
    "colab": {
      "provenance": [],
      "authorship_tag": "ABX9TyN2rbE9XPZxIsVERRT0TV2m",
      "include_colab_link": true
    },
    "kernelspec": {
      "name": "python3",
      "display_name": "Python 3"
    },
    "language_info": {
      "name": "python"
    }
  },
  "cells": [
    {
      "cell_type": "markdown",
      "metadata": {
        "id": "view-in-github",
        "colab_type": "text"
      },
      "source": [
        "<a href=\"https://colab.research.google.com/github/isemotoshota/Prog2_11th/blob/main/work2.ipynb\" target=\"_parent\"><img src=\"https://colab.research.google.com/assets/colab-badge.svg\" alt=\"Open In Colab\"/></a>"
      ]
    },
    {
      "cell_type": "markdown",
      "source": [
        "numpyを使ったプログラムの作成\n",
        "何かしらの図形を作ってそれを回転なりして面白い模様を作ってみようという予定"
      ],
      "metadata": {
        "id": "6kr0jZ5vr6FR"
      }
    },
    {
      "cell_type": "code",
      "source": [],
      "metadata": {
        "id": "Es9SrisUsD92"
      },
      "execution_count": null,
      "outputs": []
    }
  ]
}